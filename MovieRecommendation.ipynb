{
 "cells": [
  {
   "cell_type": "markdown",
   "metadata": {},
   "source": [
    "# Movie Recommendation System"
   ]
  },
  {
   "cell_type": "markdown",
   "metadata": {},
   "source": [
    "## Introduction\n",
    "In this modern world recommendation systems are everywhere, whether you shop online on Amazon or watch a movie on Netflix or read an article on Medium. Recommendation systems are constantly working to bring up the items that a user is most likely to like. Simply put, recommendation system is a program that predicts the rating of a user towards/for an item.  \n",
    "\n",
    "Recommending a movie to a user is a challenging task as there is a lot more information available about the movie like the genre, actors, language etc. as well as user behaviour patterns and clicks for example whether user watched the trailer, clicked on the movie as well as ratings user gave to that movie.   \n",
    "\n",
    "## Recommendation System Techniques\n",
    "### I Content Based Filtering\n",
    "It is a technique where the recommendation is based on the data about the item. The algorithm recommends the items that are similar in characteristic to the items user liked in the past. For example, if the user like Spider man 1 movie then this recommendation system recommends Spider man 2 as it has the same genre and star cast. \n",
    "\n",
    "\n",
    "### II Collaborative Filtering\n",
    "It is an approach where recommendation is based on user's behaviour and comparing and contrasting it with other users behaviour. The history of all users plays an important role in this technique. The algorithm works by searching a large group of users data and finding a small number of users whose choice matches well with the particular user. **Collaborative Filtering** is the most popular recommendation techniques used by Amazon, Netflix and YouTube \n",
    "\n",
    "There are 2 types of collaborative filtering \n",
    "#### a. User-based  Collaborative Filtering\n",
    "The basic concept here is to find other users that have similar preference pattern for the user say A and then recommending user A items that other similar users liked but its not viewed by user A. This is done by creating a matrix of items user has rated/clicked/liked and then generating similarity score between users and then recommending items  \n",
    "For example, if user A liked Batman Begins, Justice League and Thor and user B likes Batman Begins, Justice League and Avengers then they have similar interests. We can then recommend Thor to user B and Avengers to user A.\n",
    "\n",
    "#### b. Item-based Collaborative Filtering\n",
    "This was developed by Amazon. In this approach we find similar items instead of similar user and then recommending the similar items to the user. This is done by creating a matrix of items that the user **(same user)** liked/clicked/rated and then measuring the similarity of that item across all users who rated/ viewed/ clicked both and the finally recommending them based on similarity score\n",
    "For example,If suppose a user A rated Money Heist then we take two shows 'Money Heist' and 'Ozark' and check the rating by all users who rated both the shows. Now based on the similarity of these ratings   and ratings by user A for say 'Money Heist' The user will be recommended 'Ozark'  \n",
    "\n",
    "Simpley said-For an item I, with a set of similar items are determined based on rating vectors consisting of received user ratings. The rating by a user U, who hasn’t rated it, is found by picking out N items from the similarity list that have been rated by U and calculating the rating based on these N ratings."
   ]
  },
  {
   "cell_type": "code",
   "execution_count": null,
   "metadata": {},
   "outputs": [],
   "source": []
  },
  {
   "cell_type": "code",
   "execution_count": null,
   "metadata": {},
   "outputs": [],
   "source": []
  }
 ],
 "metadata": {
  "kernelspec": {
   "display_name": "Python 3",
   "language": "python",
   "name": "python3"
  },
  "language_info": {
   "codemirror_mode": {
    "name": "ipython",
    "version": 3
   },
   "file_extension": ".py",
   "mimetype": "text/x-python",
   "name": "python",
   "nbconvert_exporter": "python",
   "pygments_lexer": "ipython3",
   "version": "3.7.6"
  }
 },
 "nbformat": 4,
 "nbformat_minor": 4
}
